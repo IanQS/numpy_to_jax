{
 "cells": [
  {
   "cell_type": "markdown",
   "id": "5a2d138c-105a-4679-99d9-704c47a27570",
   "metadata": {},
   "source": [
    "# Jax jit\n",
    "\n",
    "## Lesson Goals:\n",
    "\n",
    "By the end of this lesson, you will know how to use the `jit`, how to accurately time computations using `jit`-ted functions, and how to identify where to `jit` things. In the process, we will quickly discuss functional programming and why functional programming is useful for speeding up computations. \n",
    "\n",
    "## Core Concepts\n",
    "\n",
    "\n",
    "\n",
    "## Concepts In action:\n",
    "\n",
    "\n",
    "- Easy: [lotka-volterra](../case_studies/lotka-volterra/README.md)\n",
    "\n",
    "- Intermediate: [leaky_integrate_and_fire](../case_studies/leaky_integrate_and_fire/README.md)\n",
    "\n",
    "- Advanced: [gaussian_mixture_model](../case_studies/gaussian_mixture_model/README.md)"
   ]
  },
  {
   "cell_type": "code",
   "id": "597a69c0-35b4-4966-b6de-16757f3c078d",
   "metadata": {
    "ExecuteTime": {
     "end_time": "2024-09-25T01:16:05.762222Z",
     "start_time": "2024-09-25T01:16:05.279813Z"
    }
   },
   "source": [
    "from typing import TypeAlias\n",
    "import time\n",
    "import jax.numpy as jnp\n",
    "import numpy as np\n",
    "import jax\n",
    "\n",
    "np.random.seed(42)"
   ],
   "outputs": [],
   "execution_count": 3
  },
  {
   "cell_type": "markdown",
   "id": "e56579c4-ee73-4e7b-b428-9505f7191d4c",
   "metadata": {},
   "source": [
    "# Functional Programming?\n",
    "\n",
    "Functional programming is many things, but for the purposes of this tutorial, it is a form of programming without side-effects. Python is not a functional programming language, but you may have heard of others such as `haskell`, `ocaml`, or `erlang`.\n",
    "\n",
    "The most common form of side-effects involves modifying some internal state. Consider the following:"
   ]
  },
  {
   "cell_type": "code",
   "id": "a049b0b1-adc1-44ec-9f4d-7b22af832ce4",
   "metadata": {
    "ExecuteTime": {
     "end_time": "2024-09-25T01:16:06.377850Z",
     "start_time": "2024-09-25T01:16:06.373046Z"
    }
   },
   "source": [
    "import copy\n",
    "class ShoppingCart:\n",
    "    def __init__(self):\n",
    "        self.items = []\n",
    "\n",
    "    def add_item(self, item):\n",
    "        self.items.append(item)  # Side effect: modifying internal state\n",
    "\n",
    "    def __repr__(self):\n",
    "        return f\"ShoppingCart({self.items})\"\n",
    "\n",
    "cart = ShoppingCart()\n",
    "cart.add_item(\"banana\")\n",
    "print(cart)\n",
    "cart.add_item(\"apple\")\n",
    "print(cart)\n",
    "print(\"*\" * 10)\n",
    "\n",
    "class FunctionalShoppingCart:\n",
    "    def __init__(self):\n",
    "        self.items = []\n",
    "\n",
    "    def add_item(self, item):\n",
    "        new_cart = FunctionalShoppingCart()\n",
    "        all_items = copy.deepcopy(self.items)\n",
    "        all_items.append(item)\n",
    "        new_cart.items = all_items\n",
    "        return new_cart\n",
    "\n",
    "    def __repr__(self):\n",
    "        return f\"FunctionalShoppingCart({self.items})\"\n",
    "\n",
    "func_cart = FunctionalShoppingCart()\n",
    "func_cart.add_item(\"banana\")  # <- The banana was not added!\n",
    "print(func_cart)\n",
    "func_cart = func_cart.add_item(\"apple\")\n",
    "print(func_cart)"
   ],
   "outputs": [
    {
     "name": "stdout",
     "output_type": "stream",
     "text": [
      "ShoppingCart(['banana'])\n",
      "ShoppingCart(['banana', 'apple'])\n",
      "**********\n",
      "FunctionalShoppingCart([])\n",
      "FunctionalShoppingCart(['apple'])\n"
     ]
    }
   ],
   "execution_count": 4
  },
  {
   "cell_type": "markdown",
   "id": "800f26b1-de6a-499a-a617-8704087de88c",
   "metadata": {},
   "source": [
    "## Functional Programming:\n",
    "\n",
    "Okay, but how is this relevant? Well, functional programming allows for:\n",
    "\n",
    "- predictable behavior: compilers can more easily optimize your code\n",
    "- immutability: the data cannot be modified, so all threads/ processes just grab a copy of the original data and process it async."
   ]
  },
  {
   "cell_type": "markdown",
   "id": "32fe45c7-c7d5-4e7c-8e7c-c1c9aaa83669",
   "metadata": {},
   "source": [
    "# Jax's JIT: Supercharged functions\n",
    "\n",
    "A `jit` is a just-in-time compilation of your code. `Python` is famously slow because, among other things, the code is interpreted i.e. at run-time, the interpreter has to decide what to do. Languages like `C++` are `Rust` are compiled so at run-time, the code is just... run.\n",
    "\n",
    "So, by compiling out Jax code via the `jit`, we can accelerate our programs. Assuming the numerical computation is the bottleneck, as is often the case in ML tasks, this means that we have sped up the slowest part of our program.\n",
    "\n",
    "## Where does functional programming come in? \n",
    "\n",
    "FP makes it easier for the `jit` compiler to speed up the code. It can do things like:\n",
    "\n",
    "- function inlining: the function call is replaced by the function itself\n",
    "\n",
    "- loop fusion/elimination/unrolling: by removing dependencies between calls, jax can \n",
    "\n",
    "- memoization: jax can cache results for particular inputs and return those if it sees those particular inputs again"
   ]
  },
  {
   "cell_type": "markdown",
   "id": "43c04fcd18d893b8",
   "metadata": {},
   "source": [
    "How do we use the jit? We can either use it as a function decorator, or as a function call. Each has its own advantages and disadvantages"
   ]
  },
  {
   "cell_type": "code",
   "id": "19d994352d53e969",
   "metadata": {
    "ExecuteTime": {
     "end_time": "2024-09-25T01:16:08.536790Z",
     "start_time": "2024-09-25T01:16:08.533291Z"
    }
   },
   "source": [
    "def doubler(x):\n",
    "    return x * 2\n",
    "\n",
    "@jax.jit\n",
    "def jitted_doubler(x):\n",
    "    return x * 2\n",
    "\n",
    "alternative_jitted_doubler = jax.jit(doubler)"
   ],
   "outputs": [],
   "execution_count": 5
  },
  {
   "cell_type": "markdown",
   "id": "58f0c6a53dcdb3d",
   "metadata": {},
   "source": [
    "# Jit in action\n",
    "\n",
    "Let's do a simple-ish task where we generate a matrix, $M \\in [0, 1)^{1000, 1000}$ and everything less than 0.5 we take the square-root of, and anything greater than 0.5 we square. We finally multiply this matrix with itself"
   ]
  },
  {
   "cell_type": "code",
   "id": "0fe5e698-198f-4028-8723-c9ea6ce3cc50",
   "metadata": {
    "ExecuteTime": {
     "end_time": "2024-09-25T01:16:15.044714Z",
     "start_time": "2024-09-25T01:16:09.252453Z"
    }
   },
   "source": [
    "input_arr = np.random.rand(1000, 1000)\n",
    "\n",
    "def func_np(m):\n",
    "    mask = m > 0.5\n",
    "    m = np.where(mask, m**2, np.sqrt(m))\n",
    "    return m @ m\n",
    "\n",
    "print(\"Numpy version\")\n",
    "%timeit func_np(input_arr)\n",
    "\n",
    "input_arr_j = jnp.asarray(input_arr)\n",
    "\n",
    "def func_jax(m):\n",
    "    # TODO: implement the jax equivalent of the above\n",
    "    pass\n",
    "\n",
    "print(\"Jax Non-Jit version\")\n",
    "%timeit func_jax(input_arr_j)\n",
    "\n",
    "jitted_func = ... # Your code here\n",
    "\n",
    "print(\"Jax Jitted version\")\n",
    "%timeit jitted_func(input_arr_j).block_until_ready()"
   ],
   "outputs": [
    {
     "name": "stdout",
     "output_type": "stream",
     "text": [
      "Numpy version\n",
      "37.7 ms ± 11.5 ms per loop (mean ± std. dev. of 7 runs, 10 loops each)\n",
      "Jax Non-Jit version\n",
      "29.9 ns ± 0.878 ns per loop (mean ± std. dev. of 7 runs, 10,000,000 loops each)\n",
      "Jax Jitted version\n"
     ]
    },
    {
     "ename": "TypeError",
     "evalue": "'ellipsis' object is not callable",
     "output_type": "error",
     "traceback": [
      "\u001B[0;31m---------------------------------------------------------------------------\u001B[0m",
      "\u001B[0;31mTypeError\u001B[0m                                 Traceback (most recent call last)",
      "Cell \u001B[0;32mIn[6], line 23\u001B[0m\n\u001B[1;32m     20\u001B[0m jitted_func \u001B[38;5;241m=\u001B[39m \u001B[38;5;241m.\u001B[39m\u001B[38;5;241m.\u001B[39m\u001B[38;5;241m.\u001B[39m \u001B[38;5;66;03m# Your code here\u001B[39;00m\n\u001B[1;32m     22\u001B[0m \u001B[38;5;28mprint\u001B[39m(\u001B[38;5;124m\"\u001B[39m\u001B[38;5;124mJax Jitted version\u001B[39m\u001B[38;5;124m\"\u001B[39m)\n\u001B[0;32m---> 23\u001B[0m get_ipython()\u001B[38;5;241m.\u001B[39mrun_line_magic(\u001B[38;5;124m'\u001B[39m\u001B[38;5;124mtimeit\u001B[39m\u001B[38;5;124m'\u001B[39m, \u001B[38;5;124m'\u001B[39m\u001B[38;5;124mjitted_func(input_arr_j).block_until_ready()\u001B[39m\u001B[38;5;124m'\u001B[39m)\n",
      "File \u001B[0;32m/opt/homebrew/anaconda3/envs/numpy_to_jax/lib/python3.12/site-packages/IPython/core/interactiveshell.py:2456\u001B[0m, in \u001B[0;36mInteractiveShell.run_line_magic\u001B[0;34m(self, magic_name, line, _stack_depth)\u001B[0m\n\u001B[1;32m   2454\u001B[0m     kwargs[\u001B[38;5;124m'\u001B[39m\u001B[38;5;124mlocal_ns\u001B[39m\u001B[38;5;124m'\u001B[39m] \u001B[38;5;241m=\u001B[39m \u001B[38;5;28mself\u001B[39m\u001B[38;5;241m.\u001B[39mget_local_scope(stack_depth)\n\u001B[1;32m   2455\u001B[0m \u001B[38;5;28;01mwith\u001B[39;00m \u001B[38;5;28mself\u001B[39m\u001B[38;5;241m.\u001B[39mbuiltin_trap:\n\u001B[0;32m-> 2456\u001B[0m     result \u001B[38;5;241m=\u001B[39m fn(\u001B[38;5;241m*\u001B[39margs, \u001B[38;5;241m*\u001B[39m\u001B[38;5;241m*\u001B[39mkwargs)\n\u001B[1;32m   2458\u001B[0m \u001B[38;5;66;03m# The code below prevents the output from being displayed\u001B[39;00m\n\u001B[1;32m   2459\u001B[0m \u001B[38;5;66;03m# when using magics with decorator @output_can_be_silenced\u001B[39;00m\n\u001B[1;32m   2460\u001B[0m \u001B[38;5;66;03m# when the last Python token in the expression is a ';'.\u001B[39;00m\n\u001B[1;32m   2461\u001B[0m \u001B[38;5;28;01mif\u001B[39;00m \u001B[38;5;28mgetattr\u001B[39m(fn, magic\u001B[38;5;241m.\u001B[39mMAGIC_OUTPUT_CAN_BE_SILENCED, \u001B[38;5;28;01mFalse\u001B[39;00m):\n",
      "File \u001B[0;32m/opt/homebrew/anaconda3/envs/numpy_to_jax/lib/python3.12/site-packages/IPython/core/magics/execution.py:1185\u001B[0m, in \u001B[0;36mExecutionMagics.timeit\u001B[0;34m(self, line, cell, local_ns)\u001B[0m\n\u001B[1;32m   1183\u001B[0m \u001B[38;5;28;01mfor\u001B[39;00m index \u001B[38;5;129;01min\u001B[39;00m \u001B[38;5;28mrange\u001B[39m(\u001B[38;5;241m0\u001B[39m, \u001B[38;5;241m10\u001B[39m):\n\u001B[1;32m   1184\u001B[0m     number \u001B[38;5;241m=\u001B[39m \u001B[38;5;241m10\u001B[39m \u001B[38;5;241m*\u001B[39m\u001B[38;5;241m*\u001B[39m index\n\u001B[0;32m-> 1185\u001B[0m     time_number \u001B[38;5;241m=\u001B[39m timer\u001B[38;5;241m.\u001B[39mtimeit(number)\n\u001B[1;32m   1186\u001B[0m     \u001B[38;5;28;01mif\u001B[39;00m time_number \u001B[38;5;241m>\u001B[39m\u001B[38;5;241m=\u001B[39m \u001B[38;5;241m0.2\u001B[39m:\n\u001B[1;32m   1187\u001B[0m         \u001B[38;5;28;01mbreak\u001B[39;00m\n",
      "File \u001B[0;32m/opt/homebrew/anaconda3/envs/numpy_to_jax/lib/python3.12/site-packages/IPython/core/magics/execution.py:173\u001B[0m, in \u001B[0;36mTimer.timeit\u001B[0;34m(self, number)\u001B[0m\n\u001B[1;32m    171\u001B[0m gc\u001B[38;5;241m.\u001B[39mdisable()\n\u001B[1;32m    172\u001B[0m \u001B[38;5;28;01mtry\u001B[39;00m:\n\u001B[0;32m--> 173\u001B[0m     timing \u001B[38;5;241m=\u001B[39m \u001B[38;5;28mself\u001B[39m\u001B[38;5;241m.\u001B[39minner(it, \u001B[38;5;28mself\u001B[39m\u001B[38;5;241m.\u001B[39mtimer)\n\u001B[1;32m    174\u001B[0m \u001B[38;5;28;01mfinally\u001B[39;00m:\n\u001B[1;32m    175\u001B[0m     \u001B[38;5;28;01mif\u001B[39;00m gcold:\n",
      "File \u001B[0;32m<magic-timeit>:1\u001B[0m, in \u001B[0;36minner\u001B[0;34m(_it, _timer)\u001B[0m\n",
      "\u001B[0;31mTypeError\u001B[0m: 'ellipsis' object is not callable"
     ]
    }
   ],
   "execution_count": 6
  },
  {
   "cell_type": "markdown",
   "id": "5a9c76f84f115f68",
   "metadata": {},
   "source": [
    "# Jit in action Part 2\n",
    "\n",
    "The previous task was pretty trivial for a modern computer. Let's increase the size of M. $M \\in [0, 1)^{4K, 4K}$, increasing the size by 16X"
   ]
  },
  {
   "cell_type": "code",
   "execution_count": null,
   "id": "7b905126b24e3774",
   "metadata": {
    "ExecuteTime": {
     "end_time": "2024-09-25T01:16:15.051654Z",
     "start_time": "2024-06-15T02:07:04.141884Z"
    }
   },
   "outputs": [],
   "source": [
    "input_arr = np.random.rand(4_000, 4_000)\n",
    "print(\"Numpy version\")\n",
    "%timeit func_np(input_arr)\n",
    "\n",
    "input_arr_j = jnp.asarray(input_arr)\n",
    "\n",
    "print(\"Jax Non-Jit version\")\n",
    "%timeit func_jax(input_arr_j)\n",
    "\n",
    "jitted_func = jax.jit(func_jax)\n",
    "\n",
    "print(\"Jax Jitted version\")\n",
    "%timeit jitted_func(input_arr_j).block_until_ready()"
   ]
  },
  {
   "cell_type": "markdown",
   "id": "80a26b4f-a812-4739-979f-a2fab006200e",
   "metadata": {},
   "source": [
    "## Quick Aside: Benchmarking in Jax\n",
    "\n",
    "The astute would have noticed the `.block_until_ready()` function call. What gives? Well, jax returns a future to prevent blocking the main python thread. So, to get accurate timings we had to use the `.block_until_ready()`. To ensure that you get accurate timings when benchmarking you can:\n",
    "\n",
    "- use `.block_until_ready()`\n",
    "- convert the `jnp.array` into `np.array` to wait for the future\n",
    "- print the `jnp.array`\n",
    "\n",
    "For more information check out: [Jax Async Dispatch](https://jax.readthedocs.io/en/latest/async_dispatch.html)"
   ]
  },
  {
   "metadata": {},
   "cell_type": "markdown",
   "source": [
    "# Exercise: Using side-effects\n",
    "\n",
    "To really drill in the idea of mutability and immutability, we're going to show how important it is to be immutable when you use `jit`. Define your own custom function that relies on some external state, as well as its `jit` version. We'll then see how they diverge.  "
   ],
   "id": "84e7f000896041a0"
  },
  {
   "metadata": {
    "ExecuteTime": {
     "end_time": "2024-09-25T01:16:23.884801Z",
     "start_time": "2024-09-25T01:16:23.881511Z"
    }
   },
   "cell_type": "code",
   "source": "small_rand_jnp = jnp.asarray(np.random.rand(3, 3))\n",
   "id": "ad3a14dd8f379c17",
   "outputs": [],
   "execution_count": 7
  },
  {
   "metadata": {
    "ExecuteTime": {
     "end_time": "2024-09-25T01:17:06.583410Z",
     "start_time": "2024-09-25T01:17:06.568289Z"
    }
   },
   "cell_type": "code",
   "source": [
    "\n",
    "def pure(x):\n",
    "    raise NotImplemented\n",
    "\n",
    "def impure(x):\n",
    "    raise NotImplemented\n",
    "\n",
    "\n",
    "for i in range(5):\n",
    "    print(pure(small_rand_jnp))\n",
    "    print(impure(small_rand_jnp))\n",
    "    print(\"*\" * 10)\n",
    "    \n",
    "    # TODO: update the state here and see how they diverge!\n",
    "    \n",
    "    \n",
    "\n",
    "    "
   ],
   "id": "1d457b4e1f213f69",
   "outputs": [
    {
     "name": "stdout",
     "output_type": "stream",
     "text": [
      "[[3.5421020e-01 1.3301860e-01 2.8897290e-05]\n",
      " [3.1481943e-01 8.0383843e-01 2.8272283e-01]\n",
      " [6.0916096e-01 2.6229199e-02 1.8850651e-02]]\n",
      "[[0.9493658  0.49773574 0.00540452]\n",
      " [0.8759072  1.7004089  0.8144397 ]\n",
      " [1.3896487  0.1881835  0.15614831]]\n",
      "**********\n",
      "[[0.9493658  0.49773574 0.00540452]\n",
      " [0.8759072  1.7004089  0.8144397 ]\n",
      " [1.3896487  0.1881835  0.15614831]]\n",
      "[[0.9493658  0.49773574 0.00540452]\n",
      " [0.8759072  1.7004089  0.8144397 ]\n",
      " [1.3896487  0.1881835  0.15614831]]\n",
      "**********\n",
      "[[1.5445215  0.8624529  0.01078014]\n",
      " [1.4369948  2.5969794  1.3461566 ]\n",
      " [2.1701362  0.35013783 0.293446  ]]\n",
      "[[0.9493658  0.49773574 0.00540452]\n",
      " [0.8759072  1.7004089  0.8144397 ]\n",
      " [1.3896487  0.1881835  0.15614831]]\n",
      "**********\n",
      "[[2.139677   1.2271701  0.01615576]\n",
      " [1.9980825  3.4935496  1.8778734 ]\n",
      " [2.9506238  0.5120922  0.43074366]]\n",
      "[[0.9493658  0.49773574 0.00540452]\n",
      " [0.8759072  1.7004089  0.8144397 ]\n",
      " [1.3896487  0.1881835  0.15614831]]\n",
      "**********\n",
      "[[2.7348325  1.5918871  0.02153138]\n",
      " [2.5591702  4.39012    2.4095902 ]\n",
      " [3.7311115  0.67404646 0.5680413 ]]\n",
      "[[0.9493658  0.49773574 0.00540452]\n",
      " [0.8759072  1.7004089  0.8144397 ]\n",
      " [1.3896487  0.1881835  0.15614831]]\n",
      "**********\n"
     ]
    }
   ],
   "execution_count": 9
  },
  {
   "cell_type": "markdown",
   "id": "4a91d6be-440a-4dba-88f3-3dac786a27da",
   "metadata": {},
   "source": [
    "# Further Exercises:\n",
    "\n",
    "0) Read through [case_studies/leaky_integrate_and_fire/jax_leaky_integrate_and_fire_2_jit.ipynb](../case_studies/leaky_integrate_and_fire/jax_leaky_integrate_and_fire_2_jit.ipynb)\n",
    "\n",
    "1) Read through [extras_when_not_to_jit.ipynb](./extras_when_not_to_jit.ipynb)\n",
    "\n",
    "2) Read through [Jax AoT Compiling](https://jax.readthedocs.io/en/latest/aot.html) and take note of the limitations that come with Jax's AoT compiling"
   ]
  },
  {
   "cell_type": "code",
   "execution_count": null,
   "id": "e9be6a316a5afd9e",
   "metadata": {},
   "outputs": [],
   "source": []
  }
 ],
 "metadata": {
  "kernelspec": {
   "display_name": "Python 3 (ipykernel)",
   "language": "python",
   "name": "python3"
  },
  "language_info": {
   "codemirror_mode": {
    "name": "ipython",
    "version": 3
   },
   "file_extension": ".py",
   "mimetype": "text/x-python",
   "name": "python",
   "nbconvert_exporter": "python",
   "pygments_lexer": "ipython3",
   "version": "3.12.2"
  }
 },
 "nbformat": 4,
 "nbformat_minor": 5
}
