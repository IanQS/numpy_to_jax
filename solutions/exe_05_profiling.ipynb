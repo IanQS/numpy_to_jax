{
 "cells": [
  {
   "cell_type": "markdown",
   "id": "3c3cb4dd-f3c4-4434-8f42-a14dc2bd3fec",
   "metadata": {},
   "source": [
    "# Profiling in Jax\n",
    "\n",
    "## Lesson Goals:\n",
    "\n",
    "By the end of this lesson, you will get a hands-on understanding of how to profile your jax code and use the `tensorboard` interface. You'll identify long compilation steps, and prove to yourself that `vmap` is comparable to vectorized operations.\n",
    "\n",
    "**Note**: this notebook assumes that you've worked through [exe_04_vmap](./exe_04_vmap.ipynb), so please work through it (or at least view the solutions at)\n",
    "\n",
    "## Core Concepts:\n",
    "\n",
    "- `vmap` vs. Vectorized operations\n",
    "- `fori_loop`, but generally [jax loop primitives](./exe_03_loop_primitives.ipynb)\n"
   ]
  },
  {
   "cell_type": "code",
   "id": "f9557218-d6f5-4d5d-adcd-e4c23977f40d",
   "metadata": {},
   "source": [
    "import jax.numpy as jnp\n",
    "from jax import grad, jit, vmap\n",
    "import jax\n",
    "from jax import random\n",
    "import numpy as np\n"
   ],
   "outputs": [],
   "execution_count": null
  },
  {
   "cell_type": "markdown",
   "id": "28211cb9-30b8-4d59-b4af-2e156405b7e8",
   "metadata": {},
   "source": [
    "## Vmap vs. Vectorized"
   ]
  },
  {
   "cell_type": "markdown",
   "id": "3b859439-d365-487b-ac90-2764090e2a77",
   "metadata": {},
   "source": [
    "![](../assets/gaussian_pdf.png)"
   ]
  },
  {
   "cell_type": "code",
   "id": "5a0168b6-b008-4987-a674-516789cf3071",
   "metadata": {},
   "source": [
    "NUM_SAMPLES = 20_000\n",
    "NUM_DIMS = 300\n",
    "\n",
    "\n",
    "means = np.random.rand(NUM_DIMS)\n",
    "sigma = np.random.rand(NUM_DIMS, NUM_DIMS)\n",
    "sigma = sigma @ sigma.T\n",
    "X = np.random.multivariate_normal(mean=means, cov=sigma, size=NUM_SAMPLES)\n",
    "\n",
    "k = means.shape[0]\n",
    "t1 = (2 * jnp.pi) ** (-k / 2)\n",
    "t2 = jnp.linalg.det(sigma) ** (-0.5)\n",
    "inv = jnp.linalg.inv(sigma)\n",
    "\n",
    "@jax.jit\n",
    "def gaussian_pdf_v(x_vec, mu_vec):\n",
    "    # TODO: Reimplement the Gaussian PDF below\n",
    "    #   Note: you already did this in exe_04_vmap :) \n",
    "    diff = x_vec - mu_vec\n",
    "    to_exp = -0.5 * diff.T @ inv @ diff\n",
    "    return t1 * t2 * jnp.exp(to_exp)\n",
    "\n",
    "\n",
    "vmapped_gaussian = vmap(gaussian_pdf_v, in_axes=(0, None))\n",
    "\n",
    "@jax.jit\n",
    "def gaussian_pdf(x_mat, mu_mat) -> np.array:\n",
    "    diff = x_mat - mu_mat\n",
    "    ###############################################################\n",
    "    to_exp = -0.5 * jnp.sum(diff @ inv * diff, axis=1)\n",
    "    ###############################################################\n",
    "    return t1 * t2 * jnp.exp(to_exp)"
   ],
   "outputs": [],
   "execution_count": null
  },
  {
   "cell_type": "code",
   "id": "448869bf-b3bf-425b-8003-fd213bfe4657",
   "metadata": {},
   "source": [
    "with jax.profiler.trace(\"/tmp/tensorboard/gauss\"):\n",
    "    # We run this 10 times to get an accurate idea of the time the `vmapped-res` takes. This is because there is some start-up time where we \n",
    "    #   jit the program\n",
    "    for i in range(10):\n",
    "        with jax.profiler.TraceAnnotation(\"manually-optimized\"):\n",
    "            normal_res = gaussian_pdf(X, means)\n",
    "        \n",
    "        with jax.profiler.TraceAnnotation(\"vmapped-res\"):\n",
    "            vmap_gauss_res = vmapped_gaussian(X, means)"
   ],
   "outputs": [],
   "execution_count": null
  },
  {
   "metadata": {},
   "cell_type": "markdown",
   "source": [
    "# Viewing the trace\n",
    "\n",
    "Run `tensorboard` via `tensorboard --logdir=/tmp/tensorboard/gauss` and navigate to the URL. You can navigate to the trace page by\n",
    "\n",
    "1) Specifying the run you'd like (red box, on the right)\n",
    "2) Specifying the tool you'd like, the `trace_viewer` (orange box)\n",
    "\n",
    "![](../assets/tb_profiler.png)\n",
    "\n",
    "You can then search up `manually-optimized` and `vmapped-res` in the text-input box in the blue square! Congratulations!\n"
   ],
   "id": "32ba37e5ed3159ea"
  },
  {
   "cell_type": "markdown",
   "id": "34c91cee-f5e1-4ac9-97a4-bb05a87917f4",
   "metadata": {},
   "source": [
    "## Loop-Unrolling"
   ]
  },
  {
   "cell_type": "code",
   "id": "d0cd6f8f-d4c0-4482-a3cb-1139dc0d3d73",
   "metadata": {},
   "source": [
    "@jax.jit\n",
    "def slow_block(init_values):\n",
    "    container = init_values\n",
    "    for i in range(100):\n",
    "        container = container + container\n",
    "        for j in range(100):\n",
    "            container = container + 5 / container\n",
    "    return container"
   ],
   "outputs": [],
   "execution_count": null
  },
  {
   "cell_type": "code",
   "id": "64145b4a-1fc6-4619-9088-ded24e500187",
   "metadata": {},
   "source": [
    "init_values = jnp.asarray(np.random.rand(5))\n",
    "\n",
    "@jax.jit\n",
    "def body_fun(_, container):\n",
    "    return container + 5 / container\n",
    "\n",
    "@jax.jit\n",
    "def slow_block_equiv(_, container):\n",
    "    container = container + container\n",
    "    return jax.lax.fori_loop(0, 100, body_fun, container)\n",
    "    \n",
    "with jax.profiler.trace(\"/tmp/tensorboard/unroll\"):\n",
    "    # As before, we run this multiple times to get an accurate idea of the time from the jit\n",
    "    for i in range(10):\n",
    "        with jax.profiler.TraceAnnotation(\"first_call\"):\n",
    "            result = slow_block(init_values).block_until_ready()\n",
    "\n",
    "        with jax.profiler.TraceAnnotation(\"for-loop-primitive\"):\n",
    "            result2 = jax.lax.fori_loop(0, 100, slow_block_equiv, init_values)\n"
   ],
   "outputs": [],
   "execution_count": null
  },
  {
   "cell_type": "code",
   "id": "75756b99-1e1c-46eb-a21a-1b4e9c6ad44a",
   "metadata": {},
   "source": "print(jnp.allclose(result, result2))",
   "outputs": [],
   "execution_count": null
  },
  {
   "metadata": {},
   "cell_type": "markdown",
   "source": [
    "# Diagnosis\n",
    "\n",
    "As before, run `tensorboard` via `tensorboard --logdir=/tmp/tensorboard/unroll` and navigate to the URL"
   ],
   "id": "bb1b0235d3e9ec23"
  },
  {
   "cell_type": "code",
   "id": "1a09651a-78c1-414f-9f14-6e87cb99232e",
   "metadata": {},
   "source": [],
   "outputs": [],
   "execution_count": null
  }
 ],
 "metadata": {
  "kernelspec": {
   "display_name": "Python 3 (ipykernel)",
   "language": "python",
   "name": "python3"
  },
  "language_info": {
   "codemirror_mode": {
    "name": "ipython",
    "version": 3
   },
   "file_extension": ".py",
   "mimetype": "text/x-python",
   "name": "python",
   "nbconvert_exporter": "python",
   "pygments_lexer": "ipython3",
   "version": "3.12.2"
  }
 },
 "nbformat": 4,
 "nbformat_minor": 5
}
