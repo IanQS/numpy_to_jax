{
 "cells": [
  {
   "cell_type": "markdown",
   "id": "3c3cb4dd-f3c4-4434-8f42-a14dc2bd3fec",
   "metadata": {},
   "source": [
    "# Profiling in Jax\n",
    "\n",
    "## Lesson Goals:\n",
    "\n",
    "By the end of this lesson, you will get a hands-on understanding of how to profile your jax code and use the `tensorboard` interface. You'll identify long compilation steps, and prove to yourself that `vmap` is comparable to vectorized operations.\n",
    "\n",
    "## Core Concepts:\n",
    "\n",
    "- `vmap` vs. Vectorized operations\n",
    "- `fori_loop`, but generally [jax loop primitives](./exe_03_loop_primitives.ipynb)\n"
   ]
  },
  {
   "cell_type": "code",
   "execution_count": null,
   "id": "f9557218-d6f5-4d5d-adcd-e4c23977f40d",
   "metadata": {},
   "outputs": [],
   "source": [
    "import jax.numpy as jnp\n",
    "from jax import grad, jit, vmap\n",
    "import jax\n",
    "from jax import random\n",
    "import numpy as np\n"
   ]
  },
  {
   "cell_type": "markdown",
   "id": "28211cb9-30b8-4d59-b4af-2e156405b7e8",
   "metadata": {},
   "source": [
    "## Vmap vs. Vectorized"
   ]
  },
  {
   "cell_type": "markdown",
   "id": "3b859439-d365-487b-ac90-2764090e2a77",
   "metadata": {},
   "source": [
    "![](../assets/gaussian_pdf.png)"
   ]
  },
  {
   "cell_type": "code",
   "execution_count": null,
   "id": "5a0168b6-b008-4987-a674-516789cf3071",
   "metadata": {},
   "outputs": [],
   "source": [
    "NUM_SAMPLES = 20_000\n",
    "NUM_DIMS = 300\n",
    "\n",
    "\n",
    "means = np.random.rand(NUM_DIMS)\n",
    "sigma = np.random.rand(NUM_DIMS, NUM_DIMS)\n",
    "sigma = sigma @ sigma.T\n",
    "X = np.random.multivariate_normal(mean=means, cov=sigma, size=NUM_SAMPLES)\n",
    "\n",
    "@jax.jit\n",
    "def gaussian_pdf_v(x_vec, mu_vec, Sigma):\n",
    "    # TODO: Reimplement the Gaussian PDF below\n",
    "    raise NotImplementedError\n",
    "\n",
    "\n",
    "vmapped_gaussian = vmap(gaussian_pdf_v, in_axes=(0, None, None))\n",
    "\n",
    "@jax.jit\n",
    "def gaussian_pdf(x_mat, mu_mat, Sigma) -> np.array:\n",
    "    k = mu_mat.shape[0]\n",
    "    t1 = (2 * jnp.pi) ** (-k / 2)\n",
    "    t2 = jnp.linalg.det(Sigma) ** (-0.5)\n",
    "    inv = jnp.linalg.inv(Sigma)\n",
    "    diff = x_mat - mu_mat\n",
    "    ###############################################################\n",
    "    to_exp = -0.5 * jnp.sum(diff @ inv * diff, axis=1)\n",
    "    ###############################################################\n",
    "    return t1 * t2 * jnp.exp(to_exp)"
   ]
  },
  {
   "cell_type": "code",
   "execution_count": null,
   "id": "448869bf-b3bf-425b-8003-fd213bfe4657",
   "metadata": {},
   "outputs": [],
   "source": [
    "with jax.profiler.trace(\"/tmp/tensorboard/gauss\"):\n",
    "    for i in range(10):\n",
    "        with jax.profiler.TraceAnnotation(\"manually-optimized\"):\n",
    "            normal_res = gaussian_pdf(X, means, sigma)\n",
    "        \n",
    "        with jax.profiler.TraceAnnotation(\"vmapped-res\"):\n",
    "            vmap_gauss_res = vmapped_gaussian(X, means, sigma)"
   ]
  },
  {
   "cell_type": "code",
   "execution_count": null,
   "id": "963a4def-2d08-4310-99c8-ed2a6d8bd4e3",
   "metadata": {},
   "outputs": [],
   "source": [
    "!tensorboard --logdir=/tmp/tensorboard/gauss"
   ]
  },
  {
   "cell_type": "markdown",
   "id": "34c91cee-f5e1-4ac9-97a4-bb05a87917f4",
   "metadata": {},
   "source": [
    "## Loop-Unrolling"
   ]
  },
  {
   "cell_type": "code",
   "execution_count": null,
   "id": "d0cd6f8f-d4c0-4482-a3cb-1139dc0d3d73",
   "metadata": {},
   "outputs": [],
   "source": [
    "@jax.jit\n",
    "def slow_block(init_values):\n",
    "    container = init_values\n",
    "    for i in range(10):\n",
    "        container = container + container\n",
    "        for j in range(100):\n",
    "            container = container + 5 / container\n",
    "    return container"
   ]
  },
  {
   "cell_type": "code",
   "execution_count": null,
   "id": "64145b4a-1fc6-4619-9088-ded24e500187",
   "metadata": {},
   "outputs": [],
   "source": [
    "init_values = jnp.asarray(np.random.rand(5))\n",
    "\n",
    "@jax.jit\n",
    "def slow_block_equiv():\n",
    "    # TODO: Implement the equiuvalent of the `slow_block` function above.\n",
    "    #     Note how the function is being called below\n",
    "    raise NotImplementedError\n",
    "    \n",
    "with jax.profiler.trace(\"/tmp/tensorboard/unroll\"):\n",
    "\n",
    "                \n",
    "    with jax.profiler.TraceAnnotation(\"first_call\"):\n",
    "        result = slow_block(init_values).block_until_ready()\n",
    "\n",
    "    with jax.profiler.TraceAnnotation(\"second_call\"):\n",
    "        result2 = slow_block(init_values).block_until_ready()\n",
    "\n",
    "\n",
    "    with jax.profiler.TraceAnnotation(\"for-loop-primitive\"):\n",
    "        result3 = jax.lax.fori_loop(0, 10, slow_block_equiv, init_values)\n"
   ]
  },
  {
   "cell_type": "code",
   "execution_count": null,
   "id": "75756b99-1e1c-46eb-a21a-1b4e9c6ad44a",
   "metadata": {},
   "outputs": [],
   "source": [
    "print(jnp.allclose(result, result2), jnp.allclose(result2, result3))"
   ]
  },
  {
   "cell_type": "code",
   "execution_count": null,
   "id": "af61fc92-0481-48ce-9df1-e7f9c085d26b",
   "metadata": {},
   "outputs": [],
   "source": [
    "!tensorboard --logdir=/tmp/tensorboard/unroll"
   ]
  },
  {
   "cell_type": "code",
   "execution_count": null,
   "id": "1a09651a-78c1-414f-9f14-6e87cb99232e",
   "metadata": {},
   "outputs": [],
   "source": []
  }
 ],
 "metadata": {
  "kernelspec": {
   "display_name": "Python 3 (ipykernel)",
   "language": "python",
   "name": "python3"
  },
  "language_info": {
   "codemirror_mode": {
    "name": "ipython",
    "version": 3
   },
   "file_extension": ".py",
   "mimetype": "text/x-python",
   "name": "python",
   "nbconvert_exporter": "python",
   "pygments_lexer": "ipython3",
   "version": "3.12.2"
  }
 },
 "nbformat": 4,
 "nbformat_minor": 5
}
