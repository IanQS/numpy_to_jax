{
 "cells": [
  {
   "cell_type": "markdown",
   "id": "3c3cb4dd-f3c4-4434-8f42-a14dc2bd3fec",
   "metadata": {},
   "source": [
    "# Randomness Jax\n",
    "\n",
    "## Lesson Goals:\n",
    "\n",
    "By the end of this lesson, you will be able to explain the difference between randomness in jax and numpy. You will also be able to explain why jax handles randomness the way it does. \n",
    "\n",
    "## Core Concepts:\n",
    "\n",
    "- `rng`\n",
    "- `vmap`\n",
    "\n",
    "## Further Resources\n",
    "\n",
    "[Jax Official Random Number Post](https://jax.readthedocs.io/en/latest/random-numbers.html)\n"
   ]
  },
  {
   "cell_type": "code",
   "id": "f9557218-d6f5-4d5d-adcd-e4c23977f40d",
   "metadata": {},
   "source": [
    "import jax.numpy as jnp\n",
    "from jax import grad, jit, vmap\n",
    "import jax\n",
    "from jax import random\n",
    "import numpy as np"
   ],
   "outputs": [],
   "execution_count": null
  },
  {
   "metadata": {},
   "cell_type": "markdown",
   "source": [
    "# RNG in Numpy\n",
    "\n",
    "Notice how subsequent calls to `np.random.randn` causes a new number to be generated? This is because there is an internal state tracker, which advances with every subsequent call. Note how we can \"reset\" this state by calling `np.random.seed` again! \n"
   ],
   "id": "a9308102686dbb9e"
  },
  {
   "metadata": {},
   "cell_type": "code",
   "source": [
    "import numpy as np\n",
    "\n",
    "# Generate an array of random numbers\n",
    "for i in range(3):\n",
    "    print(f\"Iteration: {i}\")\n",
    "    np.random.seed(42)\n",
    "    \n",
    "    for j in range(4):\n",
    "        print(np.random.randn(1))\n",
    "    print(\"\")\n"
   ],
   "id": "94fe186ee493033",
   "outputs": [],
   "execution_count": null
  },
  {
   "metadata": {},
   "cell_type": "markdown",
   "source": [
    "# RNG In Jax\n",
    "\n",
    "In keeping with Jax's philosophy of purity (and because it opens up some capabilities we'll touch on later), Jax's RNG system requires an explicit \"key\" to be passed in with every call. This purity is desirable because it forces us to be explicit in our RNG process, which means that reproducibility is easier across multiple machines. This reproducibility across multiple machines is extremely desirable, especially with the large models that need to be trained across multiple GPUs.\n",
    "\n",
    "P.s. It's **probably** less of an issue nowadays, but look up \"reproducible pytorch\" and \"reproducible tensorflow\" to see a slew of stackoverflow posts about the hoops you have to jump through to get reproducible runs across machines.\n",
    "\n",
    "## Generating random numbers in Jax\n",
    "\n",
    "So how do we do this? Well, it looks very similar to the numpy code above! We pass in our original `key` into a `split` function, which generates a new `key` and `subkey`"
   ],
   "id": "a36e60a52cb4db85"
  },
  {
   "metadata": {},
   "cell_type": "code",
   "source": [
    " import jax\n",
    "import jax.numpy as jnp\n",
    "\n",
    "\n",
    "# Generate random numbers using the key\n",
    "for i in range(3):\n",
    "    key = jax.random.PRNGKey(0)\n",
    "    print(f\"Iteration: {i}\")\n",
    "    \n",
    "    for j in range(4):\n",
    "        key, subkey = jax.random.split(key)\n",
    "        # Use the subkey to generate new random numbers\n",
    "        new_random_numbers = jax.random.normal(subkey, shape=(1,))\n",
    "        print(new_random_numbers)\n",
    "\n",
    "    print(\"\")\n"
   ],
   "id": "ccb969bd0271d095",
   "outputs": [],
   "execution_count": null
  },
  {
   "metadata": {},
   "cell_type": "markdown",
   "source": [
    "## Understanding the code:\n",
    "\n",
    "```python\n",
    "key = jax.random.PRNGKey(0)\n",
    "\n",
    "...\n",
    "\n",
    "key, subkey = jax.random.split(key)\n",
    "```\n",
    "\n",
    "We must first create the initial key via `jax.random.PRNGKey` (think of it like setting the `np.random.seed`) before we then create a \"new key\" from the original key via `jax.random.split`. \n",
    "\n",
    "## RNG Design\n",
    "\n",
    "To maintain purity, JAX's random keys are immutable. And so, you need to split the key to generate new numbers. Splitting the key ties the state of our random generator to a number that can be more-easily repeated (think of it as setting the seed at every RNG call).\n",
    "\n"
   ],
   "id": "1c6c97c97123a378"
  },
  {
   "metadata": {},
   "cell_type": "markdown",
   "source": [
    "## Why bother?\n",
    "\n",
    "It's clear that the two examples above behave similarly - we were able to reproduce the results by calling `np.random.seed` and `jax.random.PRNGKey` in between runs. However, in `numpy`, it's common to only set the seed at the start of the script. Very rarely do you see people resetting the seed in the middle of the program.\n",
    "\n",
    "### Multiprocess/multithreaded problem\n",
    "\n",
    "In fact, that raises another interesting problem: what happens in a multi-thread/ multi-process problem? \n",
    "\n",
    "In a single-process/thread program, resetting the numpy seed is trivial and relatively easy to reason about (but not necessarily).  However, in `jax`, this is simple, because we have to pass around the key and the randomness is made explicit.\n",
    "\n",
    "### Control flow and misdirection\n",
    "\n",
    "If you introduce control flow or loops in your functions, identifying where and when the seed is reset can be a headache."
   ],
   "id": "9f39c5ccee824651"
  },
  {
   "metadata": {},
   "cell_type": "markdown",
   "source": [
    "# P.s you're (probably) using numpy's random module incorrectly\n",
    "\n",
    "Look online, and you'll see a slew of code that looks like the following:\n",
    "\n",
    "```python\n",
    "import numpy as np\n",
    "np.random.seed(42)\n",
    "\n",
    "np.random.standard_normal(10)\n",
    "```\n",
    "\n",
    "but even the [official documentation](https://numpy.org/doc/stable/reference/random/legacy.html) calls this section the \"legacy randomn\n",
    "\n",
    "You're now supposed to use\n",
    "\n",
    "```python\n",
    "import numpy as np\n",
    "\n",
    "rng = np.random.default_rng()\n",
    "rng.standard_normal(10)\n",
    "```\n",
    "\n",
    "which creates a `Generator` object and ties the randomness to the state of a variable (as opposed to some global state). Tying the randomness to the state of a variable makes it easier to reason about in a multi-threaded scenario, but doesn't \"fix\" the core issue.\n"
   ],
   "id": "c7750e25f252d95a"
  },
  {
   "metadata": {},
   "cell_type": "code",
   "source": "",
   "id": "344ad31525aa3fd6",
   "outputs": [],
   "execution_count": null
  }
 ],
 "metadata": {
  "kernelspec": {
   "display_name": "Python 3 (ipykernel)",
   "language": "python",
   "name": "python3"
  },
  "language_info": {
   "codemirror_mode": {
    "name": "ipython",
    "version": 3
   },
   "file_extension": ".py",
   "mimetype": "text/x-python",
   "name": "python",
   "nbconvert_exporter": "python",
   "pygments_lexer": "ipython3",
   "version": "3.12.2"
  }
 },
 "nbformat": 4,
 "nbformat_minor": 5
}
