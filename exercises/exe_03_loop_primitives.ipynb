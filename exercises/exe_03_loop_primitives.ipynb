{
 "cells": [
  {
   "cell_type": "markdown",
   "id": "e56dcb80dcb2cabd",
   "metadata": {},
   "source": [
    "# Jax's Loops\n",
    "\n",
    "## Lesson Goals:\n",
    "\n",
    "By the end of this lesson, you'll be able to articulate why and when you want to use `jax`'s native `while_loop`, `fori_loop`, and `scan` over python's native loops. In the process, you'll learn how to read haskell-like type signatures, which will be useful as you explore the `jax` library further.\n",
    "\n",
    "## Core Concepts:\n",
    "\n",
    "- functional programming \n",
    "- reading Haskell function signatures\n",
    "- `while_loop`\n",
    "- `fori_loop`\n",
    "- `scan`\n",
    "\n",
    "## Concepts In action:\n",
    "\n",
    "- Easy: [lotka-volterra](../case_studies/lotka-volterra/README.md)\n",
    "\n",
    "- Intermediate: [leaky_integrate_and_fire](../case_studies/leaky_integrate_and_fire/README.md)"
   ]
  },
  {
   "cell_type": "code",
   "execution_count": null,
   "id": "0968a7d8-32b5-4306-a423-2bd84d003f5c",
   "metadata": {
    "ExecuteTime": {
     "end_time": "2024-06-15T02:42:46.527488Z",
     "start_time": "2024-06-15T02:42:46.164543Z"
    }
   },
   "outputs": [],
   "source": [
    "import numpy as np\n",
    "from typing import TypeAlias\n",
    "import time\n",
    "import jax.numpy as jnp\n",
    "\n",
    "np.random.seed(42)"
   ]
  },
  {
   "attachments": {},
   "cell_type": "markdown",
   "id": "55b0f684-982b-4575-a58b-ca7f8e8ad4e2",
   "metadata": {},
   "source": [
    "# Haskell-like signatures\n",
    "\n",
    "![](../assets/haskell.png)\n",
    "\n",
    "type signatures are a great way to abstractly understand functions and what they do. Let's walk through a few examples:"
   ]
  },
  {
   "cell_type": "markdown",
   "id": "c46cc470-d6a1-440a-8d77-ce284ad77ef0",
   "metadata": {},
   "source": [
    "## Signature 1: Mapping functions over elements of an iterable\n",
    "\n",
    "```haskell\n",
    "map :: (a -> b) -> [a] -> [b]\n",
    "```\n",
    "\n",
    "```python\n",
    "def map(func: Callable, arr):\n",
    "    return ...\n",
    "```"
   ]
  },
  {
   "cell_type": "markdown",
   "id": "e9076851-ec2e-44a6-b340-d25cc1bd9eb8",
   "metadata": {},
   "source": [
    "## Signature 2: Joining Structures\n",
    "\n",
    "```haskell\n",
    "(++) :: [a] -> [a] -> [a]\n",
    "```\n",
    "\n",
    "What sort of pre-condition\n",
    "\n",
    "```python\n",
    "def abstract_join_of_iterable(s1, s2):\n",
    "    \"\"\"\n",
    "    TODO: answer the following\n",
    "    1) what sort of pre-condition do we need? What function must type(s1) implement?\n",
    "    2) assuming the pre-condition, what might this function look like?\n",
    "    \"\"\"\n",
    "    return ...\n",
    "```\n"
   ]
  },
  {
   "cell_type": "markdown",
   "id": "e52c8ec1-f5fe-4437-b320-ba86265b0ce4",
   "metadata": {},
   "source": [
    "## Signature 3: Filtering elements\n",
    "\n",
    "```haskell\n",
    "filter :: (a -> Bool) -> [a] -> [a]\n",
    "```\n",
    "\n",
    "```python\n",
    "def filter(filter_func, iterable):\n",
    "    \"\"\"\n",
    "    TODO: answer the following\n",
    "    1) must it be a list? \n",
    "    2) implement the function\n",
    "    \"\"\"\n",
    "\n",
    "```"
   ]
  },
  {
   "cell_type": "markdown",
   "id": "5906d6b3-3047-4e33-ba4d-9e68fb87be14",
   "metadata": {},
   "source": [
    "# Looping in Jax\n",
    "\n",
    "As mentioned before, you probably don't want to `jit` a function that has a native python `for-loop` in it as this increases your compilation time. Thankfully, `jax` provides:\n",
    "\n",
    "- [jax.lax.while_loop](https://jax.readthedocs.io/en/latest/_autosummary/jax.lax.while_loop.html#jax.lax.while_loop)\n",
    "- [jax.lax.fori_loop](https://jax.readthedocs.io/en/latest/_autosummary/jax.lax.fori_loop.html)\n",
    "- [jax.lax.scan](https://jax.readthedocs.io/en/latest/_autosummary/jax.lax.scan.html)\n",
    "\n",
    "to circumvent this issue. \n",
    "\n",
    "Note: we don't necessarily see a speedup in runtime; the primary advantage of using these jax functions is that the compilation time is reduced."
   ]
  },
  {
   "cell_type": "markdown",
   "id": "3c6f9d25-d6be-4dc5-a8c4-13686fbec648",
   "metadata": {},
   "source": [
    "\n",
    "## The Jax Functions we will be covering:\n",
    "\n",
    "```haskell\n",
    "while_loop :: (a -> Bool) -> (a -> a) -> a -> a\n",
    "```\n",
    "\n",
    "```haskell\n",
    "fori_loop :: Int -> Int -> ((Int, a) -> a) -> a -> a\n",
    "```\n",
    "\n",
    "```haskell\n",
    "scan :: (c -> a -> (c, b)) -> c -> [a] -> (c, [b])\n",
    "```"
   ]
  },
  {
   "cell_type": "markdown",
   "id": "bc43bedd-3218-4a2b-ad14-3ff9b91fbcdd",
   "metadata": {},
   "source": [
    "## Jax's Loops\n",
    "\n",
    "```python\n",
    "def while_loop(cond_fun, body_fun, init_val):\n",
    "    val = init_val\n",
    "    while cond_fun(val):\n",
    "        val = body_fun(val)\n",
    "    return val\n",
    "```\n",
    "\n",
    "```haskell\n",
    "while_loop: TODO\n",
    "```\n",
    "\n",
    "```python\n",
    "def fori_loop(lower, upper, body_fun, init_val):\n",
    "    val = init_val\n",
    "    for i in range(lower, upper):\n",
    "        val = body_fun(i, val)\n",
    "    return val\n",
    "```\n",
    "\n",
    "```haskell\n",
    "fori_loop: TODO\n",
    "```\n",
    "\n",
    "```python\n",
    "def scan(f, init, xs):\n",
    "    carry = init\n",
    "    ys = []\n",
    "    for x in xs:\n",
    "        carry, y = f(carry, x)\n",
    "        ys.append(y)\n",
    "  return carry, np.stack(ys)\n",
    "```\n",
    "\n",
    "\n",
    "```haskell\n",
    "scan: TODO\n",
    "```"
   ]
  },
  {
   "cell_type": "markdown",
   "id": "2c32d2b7-3095-450c-ad91-0c0db029421a",
   "metadata": {},
   "source": [
    "# Further Exercises: \n",
    "\n",
    "0) Read through [case_studies/leaky_integrate_and_fire/jax_leaky_integrate_and_fire_3_scan.ipynb](../case_studies/leaky_integrate_and_fire/jax_leaky_integrate_and_fire_3_scan.ipynb) for an example of using `scan` in a \"real-world\" scenario\n",
    "\n",
    "1) Read through [case_studies/lotka-volterra/jax_lotka-volterra.ipynb](../case_studies/lotka-volterra/jax_lotka-volterra.ipynb) which shows you the various ways you can use a `fori_loop` and `scan` \n",
    "\n"
   ]
  },
  {
   "cell_type": "code",
   "execution_count": null,
   "id": "50dff9d99a14052c",
   "metadata": {},
   "outputs": [],
   "source": []
  }
 ],
 "metadata": {
  "kernelspec": {
   "display_name": "Python 3 (ipykernel)",
   "language": "python",
   "name": "python3"
  },
  "language_info": {
   "codemirror_mode": {
    "name": "ipython",
    "version": 3
   },
   "file_extension": ".py",
   "mimetype": "text/x-python",
   "name": "python",
   "nbconvert_exporter": "python",
   "pygments_lexer": "ipython3",
   "version": "3.12.2"
  }
 },
 "nbformat": 4,
 "nbformat_minor": 5
}
