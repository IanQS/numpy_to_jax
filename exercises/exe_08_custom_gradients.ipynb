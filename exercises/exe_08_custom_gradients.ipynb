{
 "cells": [
  {
   "cell_type": "code",
   "execution_count": 1,
   "id": "57aa9f61-6a7b-4ff6-a96d-9f66e0379314",
   "metadata": {},
   "outputs": [],
   "source": [
    "import jax\n",
    "import jax.numpy as jnp\n",
    "from jax import custom_derivatives"
   ]
  },
  {
   "cell_type": "code",
   "execution_count": null,
   "id": "ca9bf221-4541-401b-b893-55a56fde1514",
   "metadata": {},
   "outputs": [],
   "source": [
    "custom_derivatives.closure_convert("
   ]
  }
 ],
 "metadata": {
  "kernelspec": {
   "display_name": "Python 3 (ipykernel)",
   "language": "python",
   "name": "python3"
  },
  "language_info": {
   "codemirror_mode": {
    "name": "ipython",
    "version": 3
   },
   "file_extension": ".py",
   "mimetype": "text/x-python",
   "name": "python",
   "nbconvert_exporter": "python",
   "pygments_lexer": "ipython3",
   "version": "3.12.10"
  }
 },
 "nbformat": 4,
 "nbformat_minor": 5
}
