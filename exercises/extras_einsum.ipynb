{
 "cells": [
  {
   "cell_type": "markdown",
   "id": "2ea93709-b1aa-4aeb-b4e8-2277e04eb5dc",
   "metadata": {},
   "source": [
    "# Einstein Notation\n",
    "\n",
    "## Lesson Goals:\n",
    "\n",
    "By the end of this lesson, you will understand how to read `einsum` notation, and get a feel for the kinds of operations that it can replace.\n",
    "\n",
    "## Core Concepts:\n",
    "\n",
    "- `einsum`\n"
   ]
  },
  {
   "cell_type": "markdown",
   "id": "90bdd7db-d0c9-4545-93b6-1c0092e8cc24",
   "metadata": {},
   "source": [
    "# Matrix Operations:\n",
    "\n",
    "- dot product\n",
    "- matrix-vector\n",
    "- matrix-matrix\n",
    "- hadamard product\n",
    "- outer product\n",
    "- batched matrix mult\n",
    "- transpose\n",
    "- summing along an axis after multiplication\n",
    "- trace\n",
    "- diag"
   ]
  },
  {
   "cell_type": "code",
   "execution_count": null,
   "id": "528f55c5-8f79-4022-91fe-adbb070ee8ea",
   "metadata": {},
   "outputs": [],
   "source": [
    "import numpy as np\n",
    "np.random.seed(42)\n",
    "\n",
    "import jax.numpy as jnp\n",
    "from jax.scipy import stats"
   ]
  },
  {
   "cell_type": "code",
   "execution_count": null,
   "id": "90280239-5cbd-4464-99ee-4ee52e5efab6",
   "metadata": {},
   "outputs": [],
   "source": [
    "NUM_FEAT = 10\n",
    "NUM_SAMPLES = 100\n",
    "\n",
    "v1 = jnp.asarray(np.random.rand(NUM_FEAT))\n",
    "v2 = jnp.asarray(np.random.rand(NUM_FEAT))\n",
    "\n",
    "M1 = jnp.asarray(np.random.rand(NUM_FEAT, NUM_SAMPLES))\n",
    "M2 = jnp.asarray(np.random.rand(NUM_SAMPLES, NUM_FEAT))"
   ]
  },
  {
   "cell_type": "markdown",
   "id": "36adb9ae-b029-4051-8810-b2d55ffe18bf",
   "metadata": {},
   "source": [
    "# Vector-Vector dot product\n",
    "\n",
    "which returns a scalar. This is equivalent to doing a hadamard-then-sum"
   ]
  },
  {
   "cell_type": "code",
   "execution_count": null,
   "id": "3807b764-f895-4f40-ba7e-7b70c094caa6",
   "metadata": {},
   "outputs": [],
   "source": [
    "# vector-vector dot-product\n",
    "def vv_dot():\n",
    "    res = jnp.dot(v1, v2)\n",
    "    res2 = v1 @ v2\n",
    "    res3 = jnp.matmul(v1, v2)\n",
    "\n",
    "    res_ein = ...  # Your code here\n",
    "    \n",
    "    print(\"All vector dot-products equivalent?\",\n",
    "        jnp.all(res == res2 == res3 == res_ein)\n",
    "    )\n",
    "\n",
    "vv_dot()"
   ]
  },
  {
   "cell_type": "markdown",
   "id": "e1301217-0353-42b4-8c6e-38d2fde5b437",
   "metadata": {},
   "source": [
    "# Outer Product\n",
    "\n",
    "Let \n",
    "\n",
    "$$u \\in \\mathbb{R}^m$$\n",
    "\n",
    "and \n",
    "\n",
    "$$v \\in \\mathbb{R}^n$$\n",
    "\n",
    "then the dot-product is\n",
    "\n",
    "$$(u \\otimes v) \\in \\mathbb{R}^{m, n}$$"
   ]
  },
  {
   "cell_type": "code",
   "execution_count": null,
   "id": "37ded86c-9e62-4495-beab-eab0a9f58e64",
   "metadata": {},
   "outputs": [],
   "source": [
    "# vector-vector outer-product\n",
    "\n",
    "def vv_outer():\n",
    "    res = jnp.outer(v1, v2)\n",
    "    \n",
    "    res_ein = ...  # Your code here\n",
    "    print(\n",
    "        \"Outer-products equivalent?\",\n",
    "        jnp.allclose(res, res_ein))\n",
    "\n",
    "vv_outer()"
   ]
  },
  {
   "cell_type": "markdown",
   "id": "b19daa8b-a1fe-4302-a138-cffa372c671c",
   "metadata": {},
   "source": [
    "# Matrix-Matrix multiplication"
   ]
  },
  {
   "cell_type": "code",
   "execution_count": null,
   "id": "65e3b4e2-744f-48a3-a816-e62b4b99999b",
   "metadata": {},
   "outputs": [],
   "source": [
    "def mm_mult():\n",
    "    # Matrix mult\n",
    "    res_mm = jnp.dot(M1, M2)\n",
    "    res_ein_mm = ...  # Your code here\n",
    "    print(\"Matrix-mult equivalent?\",jnp.allclose(res_mm, res_ein_mm))\n",
    "\n",
    "    # Matrix mult then sum along the 0-th axis\n",
    "    res_mm = np.sum(jnp.dot(M1, M2), axis=0)\n",
    "    res_ein_mm = ...  # Your code here\n",
    "    print(\"Matrix-mult then sum-rows equivalent?\",jnp.allclose(res_mm, res_ein_mm))\n",
    "\n",
    "    # Matrix mult then sum along the 1st axis\n",
    "    res_mm = np.sum(jnp.dot(M1, M2), axis=1)\n",
    "    res_ein_mm = ...  # Your code here\n",
    "    print(\"Matrix-mult then sum-cols equivalent?\",jnp.allclose(res_mm, res_ein_mm))\n",
    "\n",
    "mm_mult()"
   ]
  },
  {
   "cell_type": "markdown",
   "id": "715ca0fa-8e46-44e0-9127-bafb5aaee8c0",
   "metadata": {},
   "source": [
    "# Misc. Operations\n",
    "\n",
    "Some other operations that are useful involve taking:\n",
    "\n",
    "- the trace, the sum of the diagonals\n",
    "- the diagonals themselves\n",
    "- transpose"
   ]
  },
  {
   "cell_type": "code",
   "execution_count": null,
   "id": "fd0ccc9c-7c64-49fa-962a-2ddf91b39b69",
   "metadata": {},
   "outputs": [],
   "source": [
    "def trace():\n",
    "\n",
    "    #############################################\n",
    "    # Note: the einsum trace is only defined when the matrix is square\n",
    "    #############################################\n",
    "    print(\n",
    "        \"Non-square matrix trace equivalent?\",\n",
    "        jnp.allclose(\n",
    "            jnp.trace(M1), \n",
    "            np.einsum(\"ij->\", M1)\n",
    "        )\n",
    "    )\n",
    "\n",
    "    print(\n",
    "        \"Square matrix trace equivalent?\",\n",
    "        jnp.allclose(\n",
    "            jnp.trace(M1 @ M1.T), \n",
    "            np.einsum(\"ii->\", M1 @ M1.T)\n",
    "        )\n",
    "    )\n",
    "\n",
    "def transpose():\n",
    "    #############################################\n",
    "    # Transpose\n",
    "    print(\n",
    "        \"Matrix Transpose equivalent?\", jnp.allclose(\n",
    "        M1.T, \n",
    "        np.einsum(\"ij -> ji\", M1)\n",
    "    ))\n",
    "\n",
    "def diagonal():\n",
    "    #############################################\n",
    "    # Diagonal\n",
    "    # Note: the einsum diagonal is only defined when the matrix is square\n",
    "    try:\n",
    "        print(\n",
    "            \"Diag on non-square matrix equivalent?\",\n",
    "            jnp.allclose(\n",
    "            jnp.diag(M1), \n",
    "            np.einsum(\"ii -> i\", M1)\n",
    "        ))\n",
    "    except Exception as e:\n",
    "        print(\"\\n\", e)\n",
    "        # We get the expected result\n",
    "        print(\n",
    "            \"Diag on square matrix equivalent?\",\n",
    "            jnp.allclose(\n",
    "            jnp.diag(M1 @ M1.T), \n",
    "            np.einsum(\"ii -> i\", M1 @ M1.T)\n",
    "        ))\n",
    "\n",
    "\n",
    "trace()\n",
    "transpose()\n",
    "diagonal()"
   ]
  },
  {
   "cell_type": "markdown",
   "id": "bdfc5192-46a6-4637-9d46-dc2749380f26",
   "metadata": {},
   "source": [
    "# Higher-dimensional operations\n",
    "\n",
    "Scenario: we have learned some filters and want to apply those filters to an image.\n",
    "\n",
    "Another good example, which we do not cover, is calculating attention in LLMs. See [Einsum is All you Need - Einstein Summation in Deep Learning#3.2 Attention](https://rockt.github.io/2018/04/30/einsum)\n",
    "\n",
    "P.s. What is the expected output shape of `res_tc`?"
   ]
  },
  {
   "cell_type": "code",
   "execution_count": null,
   "id": "9ac755ec-d46b-4b6a-805b-bd4a227f579c",
   "metadata": {},
   "outputs": [],
   "source": [
    "BATCH_SIZE = 128\n",
    "NUM_CHANNELS = 3\n",
    "HEIGHT = 32\n",
    "WIDTH = 32\n",
    "\n",
    "LEARNED_FILTERS = 5\n",
    "\n",
    "def tensor_contraction(images, learned_kernels):\n",
    "    #############################################\n",
    "    # Apply our learned filters (T2) to our data (T1)\n",
    "    #############################################\n",
    "    flattened_images = images.reshape(BATCH_SIZE, HEIGHT * WIDTH * NUM_CHANNELS)\n",
    "    \n",
    "    # Flatten height, width, and channels for T2, but need to transpose to match the matrix multiplication requirements\n",
    "    flattened_kernel = learned_kernels.reshape(LEARNED_FILTERS, HEIGHT * WIDTH * NUM_CHANNELS).transpose()\n",
    "    \n",
    "    # Matrix multiplication\n",
    "    res_tc = jnp.matmul(flattened_images, flattened_kernel)\n",
    "\n",
    "    # Einsum\n",
    "    res_ein = ...  # TODO: Your code here\n",
    "\n",
    "    print(\n",
    "        \"Tensor Contraction Equivalent?\",\n",
    "        jnp.allclose(\n",
    "            res_tc,\n",
    "            res_ein\n",
    "    ))\n",
    "\n",
    "\n",
    "images = jnp.asarray(np.random.rand(BATCH_SIZE, HEIGHT, WIDTH, NUM_CHANNELS))\n",
    "learned_kernels = jnp.asarray(np.random.rand(LEARNED_FILTERS, HEIGHT, WIDTH, NUM_CHANNELS))\n",
    "tensor_contraction(images, learned_kernels)"
   ]
  },
  {
   "cell_type": "markdown",
   "id": "b28220f6-9e36-4fe0-83f0-e9675cc2946e",
   "metadata": {},
   "source": [
    "# Gaussian PDF\n",
    "\n",
    "Recall the Gaussian PDF calculation from our [vmap lecture](./exe_04_vmap.ipynb). Another way of handling this is via the `einsum`. One of the steps involves calculating \n",
    "\n",
    "$$(x - \\mu)^T\\Sigma(x - \\mu)$$\n",
    "\n",
    "and we can leverage the einsum here"
   ]
  },
  {
   "cell_type": "code",
   "execution_count": null,
   "id": "557fdab7-3a4f-4a54-8ef0-e388ff491d00",
   "metadata": {},
   "outputs": [],
   "source": [
    "import numpy as np\n",
    "\n",
    "def gaussian_pdf(x, mu, Sigma):\n",
    "    # Dimensions of the data\n",
    "    k = mu.shape[0]\n",
    "    \n",
    "    # Calculate determinant and inverse of the covariance matrix\n",
    "    Sigma_det = jnp.linalg.det(Sigma)\n",
    "    Sigma_inv = jnp.linalg.inv(Sigma)\n",
    "    \n",
    "    # Calculate the normalization factor\n",
    "    normalization_factor = 1 / jnp.sqrt((2 * jnp.pi) ** k * Sigma_det)\n",
    "    x_mu = x - mu\n",
    "    ###############################################################\n",
    "    exponent1 = -0.5 * jnp.sum(x_mu @ Sigma_inv * x_mu, axis=1)\n",
    "    exponent2 = ...  # TODO: Your code here\n",
    "    print(\"Exponent calculations equivalent?: \", exponent1 == exponent2)\n",
    "    ###############################################################\n",
    "    \n",
    "    # Compute the Gaussian PDF\n",
    "    return normalization_factor * jnp.exp(exponent2)\n",
    "\n",
    "# Example usage\n",
    "mu = np.array([0, 0])  # Mean vector\n",
    "Sigma = np.array([[1, 0], [0, 1]])  # Covariance matrix\n",
    "x = np.array([[1, 1], [2, 2], [3, 3]])  # Point to evaluate the PDF\n",
    "\n",
    "pdf_value = gaussian_pdf(x, mu, Sigma)\n",
    "\n",
    "print(jnp.allclose(\n",
    "    pdf_value, \n",
    "    stats.multivariate_normal.pdf(x, mu, Sigma)\n",
    "))"
   ]
  }
 ],
 "metadata": {
  "kernelspec": {
   "display_name": "Python 3 (ipykernel)",
   "language": "python",
   "name": "python3"
  },
  "language_info": {
   "codemirror_mode": {
    "name": "ipython",
    "version": 3
   },
   "file_extension": ".py",
   "mimetype": "text/x-python",
   "name": "python",
   "nbconvert_exporter": "python",
   "pygments_lexer": "ipython3",
   "version": "3.12.2"
  }
 },
 "nbformat": 4,
 "nbformat_minor": 5
}
