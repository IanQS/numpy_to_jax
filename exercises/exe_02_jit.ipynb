{
 "cells": [
  {
   "cell_type": "markdown",
   "id": "5a2d138c-105a-4679-99d9-704c47a27570",
   "metadata": {},
   "source": [
    "# Jax jit\n",
    "\n",
    "## Lesson Goals:\n",
    "\n",
    "By the end of this lesson, you will know how to use the `jit`, how to accurately time computations using `jit`-ted functions, and how to identify where to `jit` things. In the process, we will quickly discuss functional programming and why functional programming is useful for speeding up computations. \n",
    "\n",
    "## Core Concepts\n",
    "\n",
    "\n",
    "\n",
    "## Concepts In action:\n",
    "\n",
    "\n",
    "- Easy: [lotka-volterra](../case_studies/lotka-volterra/README.md)\n",
    "\n",
    "- Intermediate: [leaky_integrate_and_fire](../case_studies/leaky_integrate_and_fire/README.md)\n",
    "\n",
    "- Advanced: [gaussian_mixture_model](../case_studies/gaussian_mixture_model/README.md)"
   ]
  },
  {
   "cell_type": "code",
   "id": "597a69c0-35b4-4966-b6de-16757f3c078d",
   "metadata": {},
   "source": [
    "import jax.numpy as jnp\n",
    "import numpy as np\n",
    "import jax\n",
    "\n",
    "np.random.seed(42)"
   ],
   "outputs": [],
   "execution_count": null
  },
  {
   "cell_type": "markdown",
   "id": "e56579c4-ee73-4e7b-b428-9505f7191d4c",
   "metadata": {},
   "source": [
    "# Functional Programming?\n",
    "\n",
    "Functional programming is many things, but for the purposes of this tutorial, it is a form of programming without side-effects. Python is not a functional programming language, but you may have heard of others such as `haskell`, `ocaml`, or `erlang`.\n",
    "\n",
    "The most common form of side-effects involves modifying some internal state. Consider the following:"
   ]
  },
  {
   "cell_type": "code",
   "id": "a049b0b1-adc1-44ec-9f4d-7b22af832ce4",
   "metadata": {},
   "source": [
    "import copy\n",
    "class ShoppingCart:\n",
    "    def __init__(self):\n",
    "        self.items = []\n",
    "\n",
    "    def add_item(self, item):\n",
    "        self.items.append(item)  # Side effect: modifying internal state\n",
    "\n",
    "    def __repr__(self):\n",
    "        return f\"ShoppingCart({self.items})\"\n",
    "\n",
    "cart = ShoppingCart()\n",
    "cart.add_item(\"banana\")\n",
    "print(cart)\n",
    "cart.add_item(\"apple\")\n",
    "print(cart)\n",
    "print(\"*\" * 10)\n",
    "\n",
    "class FunctionalShoppingCart:\n",
    "    def __init__(self):\n",
    "        self.items = []\n",
    "\n",
    "    def add_item(self, item):\n",
    "        new_cart = FunctionalShoppingCart()\n",
    "        all_items = copy.deepcopy(self.items)\n",
    "        all_items.append(item)\n",
    "        new_cart.items = all_items\n",
    "        return new_cart\n",
    "\n",
    "    def __repr__(self):\n",
    "        return f\"FunctionalShoppingCart({self.items})\"\n",
    "\n",
    "func_cart = FunctionalShoppingCart()\n",
    "func_cart.add_item(\"banana\")  # <- The banana was not added!\n",
    "print(func_cart)\n",
    "func_cart = func_cart.add_item(\"apple\")\n",
    "print(func_cart)"
   ],
   "outputs": [],
   "execution_count": null
  },
  {
   "cell_type": "markdown",
   "id": "800f26b1-de6a-499a-a617-8704087de88c",
   "metadata": {},
   "source": [
    "## Functional Programming:\n",
    "\n",
    "Okay, but how is this relevant? Well, functional programming allows for:\n",
    "\n",
    "- predictable behavior: compilers can more easily optimize your code\n",
    "- immutability: the data cannot be modified, so all threads/ processes just grab a copy of the original data and process it async."
   ]
  },
  {
   "cell_type": "markdown",
   "id": "32fe45c7-c7d5-4e7c-8e7c-c1c9aaa83669",
   "metadata": {},
   "source": [
    "# Jax's JIT: Supercharged functions\n",
    "\n",
    "A `jit` is a just-in-time compilation of your code. `Python` is famously slow because, among other things, the code is interpreted i.e. at run-time, the interpreter has to decide what to do. Languages like `C++` are `Rust` are compiled so at run-time, the code is just... run.\n",
    "\n",
    "So, by compiling out Jax code via the `jit`, we can accelerate our programs. Assuming the numerical computation is the bottleneck, as is often the case in ML tasks, this means that we have sped up the slowest part of our program.\n",
    "\n",
    "## Where does functional programming come in? \n",
    "\n",
    "FP makes it easier for the `jit` compiler to speed up the code. It can do things like:\n",
    "\n",
    "- function inlining: the function call is replaced by the function itself\n",
    "\n",
    "- loop fusion/elimination/unrolling: by removing dependencies between calls, jax can \n",
    "\n",
    "- memoization: jax can cache results for particular inputs and return those if it sees those particular inputs again"
   ]
  },
  {
   "cell_type": "markdown",
   "id": "43c04fcd18d893b8",
   "metadata": {},
   "source": [
    "How do we use the jit? We can either use it as a function decorator, or as a function call. Each has its own advantages and disadvantages"
   ]
  },
  {
   "cell_type": "code",
   "id": "19d994352d53e969",
   "metadata": {},
   "source": [
    "def doubler(x):\n",
    "    return x * 2\n",
    "\n",
    "@jax.jit\n",
    "def jitted_doubler(x):\n",
    "    return x * 2\n",
    "\n",
    "alternative_jitted_doubler = jax.jit(doubler)"
   ],
   "outputs": [],
   "execution_count": null
  },
  {
   "cell_type": "markdown",
   "id": "58f0c6a53dcdb3d",
   "metadata": {},
   "source": [
    "# Jit in action\n",
    "\n",
    "Let's do a simple-ish task where we generate a matrix, $M \\in [0, 1)^{1000, 1000}$ and everything less than 0.5 we take the square-root of, and anything greater than 0.5 we square. We finally multiply this matrix with itself"
   ]
  },
  {
   "cell_type": "code",
   "id": "0fe5e698-198f-4028-8723-c9ea6ce3cc50",
   "metadata": {},
   "source": [
    "input_arr = np.random.rand(1000, 1000)\n",
    "\n",
    "def func_np(m):\n",
    "    mask = m > 0.5\n",
    "    m = np.where(mask, m**2, np.sqrt(m))\n",
    "    return m @ m\n",
    "\n",
    "print(\"Numpy version\")\n",
    "%timeit func_np(input_arr)\n",
    "\n",
    "input_arr_j = jnp.asarray(input_arr)\n",
    "\n",
    "def func_jax(m):\n",
    "    # TODO: implement the jax equivalent of the above\n",
    "    pass\n",
    "\n",
    "print(\"Jax Non-Jit version\")\n",
    "%timeit func_jax(input_arr_j)\n",
    "\n",
    "jitted_func = ... # TODO: Jit the function you just implemented\n",
    "\n",
    "print(\"Jax Jitted version\")\n",
    "%timeit jitted_func(input_arr_j).block_until_ready()"
   ],
   "outputs": [],
   "execution_count": null
  },
  {
   "cell_type": "markdown",
   "id": "5a9c76f84f115f68",
   "metadata": {},
   "source": [
    "# Jit in action Part 2\n",
    "\n",
    "The previous task was pretty trivial for a modern computer. Let's increase the size of M. $M \\in [0, 1)^{4K, 4K}$, increasing the size by 16X"
   ]
  },
  {
   "cell_type": "code",
   "id": "7b905126b24e3774",
   "metadata": {},
   "source": [
    "input_arr = np.random.rand(4_000, 4_000)\n",
    "print(\"Numpy version\")\n",
    "%timeit func_np(input_arr)\n",
    "\n",
    "input_arr_j = jnp.asarray(input_arr)\n",
    "\n",
    "print(\"Jax Non-Jit version\")\n",
    "%timeit func_jax(input_arr_j)\n",
    "\n",
    "jitted_func = jax.jit(func_jax)\n",
    "\n",
    "print(\"Jax Jitted version\")\n",
    "%timeit jitted_func(input_arr_j).block_until_ready()"
   ],
   "outputs": [],
   "execution_count": null
  },
  {
   "cell_type": "markdown",
   "id": "80a26b4f-a812-4739-979f-a2fab006200e",
   "metadata": {},
   "source": [
    "## Quick Aside: Benchmarking in Jax\n",
    "\n",
    "The astute would have noticed the `.block_until_ready()` function call. What gives? Well, jax returns a future to prevent blocking the main python thread. So, to get accurate timings we had to use the `.block_until_ready()`. To ensure that you get accurate timings when benchmarking you can:\n",
    "\n",
    "- use `.block_until_ready()`\n",
    "- convert the `jnp.array` into `np.array` to wait for the future\n",
    "- print the `jnp.array`\n",
    "\n",
    "For more information check out: [Jax Async Dispatch](https://jax.readthedocs.io/en/latest/async_dispatch.html)"
   ]
  },
  {
   "metadata": {},
   "cell_type": "markdown",
   "source": [
    "# Exercise: Using side-effects\n",
    "\n",
    "To really drill in the idea of mutability and immutability, we're going to show how important it is to be immutable when you use `jit`. Define your own custom function that relies on some external state, as well as its `jit` version. We'll then see how they diverge.  "
   ],
   "id": "84e7f000896041a0"
  },
  {
   "metadata": {},
   "cell_type": "code",
   "source": "small_rand_jnp = jnp.asarray(np.random.rand(3, 3))\n",
   "id": "ad3a14dd8f379c17",
   "outputs": [],
   "execution_count": null
  },
  {
   "metadata": {},
   "cell_type": "code",
   "source": [
    "\n",
    "def impure_non_jit(x):\n",
    "    raise NotImplemented\n",
    "\n",
    "def impure_jitted(x):\n",
    "    raise NotImplemented\n",
    "\n",
    "\n",
    "for i in range(5):\n",
    "    print(impure_non_jit(small_rand_jnp))\n",
    "    print(impure_jitted(small_rand_jnp))\n",
    "    print(\"*\" * 10)\n",
    "    \n",
    "    # TODO: update the state here and see how they diverge!\n",
    "    \n",
    "    \n",
    "\n",
    "    "
   ],
   "id": "1d457b4e1f213f69",
   "outputs": [],
   "execution_count": null
  },
  {
   "cell_type": "markdown",
   "id": "4a91d6be-440a-4dba-88f3-3dac786a27da",
   "metadata": {},
   "source": [
    "# Further Exercises:\n",
    "\n",
    "0) Read through [case_studies/leaky_integrate_and_fire/jax_leaky_integrate_and_fire_2_jit.ipynb](../case_studies/leaky_integrate_and_fire/jax_leaky_integrate_and_fire_2_jit.ipynb)\n",
    "\n",
    "1) Read through [extras_when_not_to_jit.ipynb](./extras_when_not_to_jit.ipynb)\n",
    "\n",
    "2) Read through [Jax AoT Compiling](https://jax.readthedocs.io/en/latest/aot.html) and take note of the limitations that come with Jax's AoT compiling"
   ]
  },
  {
   "cell_type": "code",
   "id": "e9be6a316a5afd9e",
   "metadata": {},
   "source": [],
   "outputs": [],
   "execution_count": null
  }
 ],
 "metadata": {
  "kernelspec": {
   "display_name": "Python 3 (ipykernel)",
   "language": "python",
   "name": "python3"
  },
  "language_info": {
   "codemirror_mode": {
    "name": "ipython",
    "version": 3
   },
   "file_extension": ".py",
   "mimetype": "text/x-python",
   "name": "python",
   "nbconvert_exporter": "python",
   "pygments_lexer": "ipython3",
   "version": "3.12.2"
  }
 },
 "nbformat": 4,
 "nbformat_minor": 5
}
